{
 "cells": [
  {
   "cell_type": "markdown",
   "metadata": {},
   "source": [
    "## Assignment 2:1. \n",
    "- Prove properties of matrix multiplication\n",
    "- Write notebook in a structured manner\n",
    "- Calculate inverse of a matrix using numpy (inbuilt api and/or manual coding) - Show how numpy is faster than traditional looping :\n",
    "\n",
    "You have to print time for both cases\n",
    "\n",
    "Use a large sized matrix (10000 x 10000) or something even larger. You can use any example"
   ]
  },
  {
   "cell_type": "code",
   "execution_count": 1,
   "metadata": {},
   "outputs": [],
   "source": [
    "import numpy as np \n",
    "import random\n",
    "import time \n"
   ]
  },
  {
   "cell_type": "code",
   "execution_count": 2,
   "metadata": {},
   "outputs": [],
   "source": [
    "A = np.array([[np.random.randint(0,100) for j in range(10)] for i in range(10)])\n",
    "B =  np.array([[np.random.randint(0,100) for j in range(10)] for i in range(10)])\n",
    "C = np.array([[np.random.randint(0,100) for j in range(10)] for i in range(10)])"
   ]
  },
  {
   "cell_type": "code",
   "execution_count": 4,
   "metadata": {},
   "outputs": [],
   "source": [
    "def check(X,Y):\n",
    "    if X.shape != Y.shape:\n",
    "        return False\n",
    "    else:\n",
    "        for i in range(X.shape[0]):\n",
    "            for j in range(X.shape[1]):\n",
    "                if X[i][j] != Y[i][j]:\n",
    "                    return False\n",
    "        return True"
   ]
  },
  {
   "cell_type": "markdown",
   "metadata": {},
   "source": [
    "## Associative Law\n",
    "A(BC) = (AB)C"
   ]
  },
  {
   "cell_type": "code",
   "execution_count": 5,
   "metadata": {},
   "outputs": [
    {
     "name": "stdout",
     "output_type": "stream",
     "text": [
      "Matrices are Associative\n"
     ]
    }
   ],
   "source": [
    "a = np.matmul(A, np.matmul(B,C))\n",
    "b = np.matmul(np.matmul(A,B),C)\n",
    "if check(a,b):\n",
    "    print(\"Matrices are Associative\")\n",
    "else:\n",
    "    print(\"Matricesare not Associative\")"
   ]
  },
  {
   "cell_type": "markdown",
   "metadata": {},
   "source": [
    "## Distributive\n",
    "A(B + C) == (AB) + (AC"
   ]
  },
  {
   "cell_type": "code",
   "execution_count": 7,
   "metadata": {},
   "outputs": [
    {
     "name": "stdout",
     "output_type": "stream",
     "text": [
      "Matrices are Distributive!\n"
     ]
    }
   ],
   "source": [
    "abc = np.matmul(A,np.add(B,C))\n",
    "ab_ac = np.add(np.matmul(A,B),np.matmul(A,C))\n",
    "if check(abc,ab_ac):\n",
    "    print(\"Matrices are Distributive!\")\n",
    "else:\n",
    "    print(\"Matrices are not Distributive\")"
   ]
  },
  {
   "cell_type": "markdown",
   "metadata": {},
   "source": [
    "## Non - commutative\n",
    "AB != BA"
   ]
  },
  {
   "cell_type": "code",
   "execution_count": 6,
   "metadata": {},
   "outputs": [
    {
     "name": "stdout",
     "output_type": "stream",
     "text": [
      "Matrices are Non Commutative\n"
     ]
    }
   ],
   "source": [
    "ab = np.matmul(A,B)\n",
    "ba = np.matmul(B,A)\n",
    "if check(ab,ba):\n",
    "    print(\"Matrices are Commutative\")\n",
    "else:\n",
    "    print(\"Matrices are Non Commutative\")"
   ]
  },
  {
   "cell_type": "markdown",
   "metadata": {},
   "source": [
    "## 2. Inverse of Matrix using  Numpy:"
   ]
  },
  {
   "cell_type": "code",
   "execution_count": 14,
   "metadata": {},
   "outputs": [],
   "source": [
    "a_inv = np.linalg.inv(A)\n",
    "b_inv = np.linalg.inv(B)\n",
    "c_inv = np.linalg.inv(C)"
   ]
  },
  {
   "cell_type": "code",
   "execution_count": 15,
   "metadata": {},
   "outputs": [
    {
     "data": {
      "text/plain": [
       "array([[-4.58737080e-03, -5.15340614e-04, -8.20577804e-04,\n",
       "         6.01661981e-03, -3.57587729e-03,  3.80775779e-03,\n",
       "        -1.11669927e-03,  5.34024573e-03, -2.64638370e-03,\n",
       "        -1.35214563e-03],\n",
       "       [ 9.05609807e-03, -1.13423123e-02,  3.70969090e-03,\n",
       "         1.42099686e-03,  1.38414581e-02,  1.85705451e-03,\n",
       "         9.44279913e-03, -8.78084833e-03, -1.39052862e-02,\n",
       "        -1.84632598e-03],\n",
       "       [ 6.27794942e-04, -4.77409999e-03, -1.05876997e-02,\n",
       "         2.30597963e-02, -2.89867832e-02, -5.88055149e-03,\n",
       "         2.84967645e-03,  3.54984600e-03,  1.70724187e-02,\n",
       "        -6.41363329e-03],\n",
       "       [ 3.43651732e-03, -3.28594427e-03,  4.78148553e-04,\n",
       "         1.64094526e-02,  2.40134903e-04, -9.29514863e-03,\n",
       "        -5.97992811e-03, -2.52514091e-03, -9.59112939e-03,\n",
       "         5.30520732e-03],\n",
       "       [ 3.88663339e-03, -7.72055237e-03,  2.42879076e-03,\n",
       "        -1.93680328e-02,  4.82157440e-02,  7.73312390e-03,\n",
       "        -1.51544588e-02,  2.37832936e-03, -3.01685617e-02,\n",
       "         2.57977452e-02],\n",
       "       [-7.32009351e-03,  2.65874080e-02,  4.05035069e-03,\n",
       "        -2.51928267e-02, -8.14683789e-03,  1.73113561e-02,\n",
       "        -1.72175263e-03, -5.32704578e-03,  2.33037322e-02,\n",
       "        -1.23485045e-02],\n",
       "       [ 5.55913239e-03,  1.56255541e-02,  5.36128210e-03,\n",
       "        -3.00840434e-03, -5.01000259e-02, -8.55732910e-03,\n",
       "         9.55990139e-03,  3.31746683e-03,  3.04178674e-02,\n",
       "        -1.50888722e-02],\n",
       "       [-5.28500799e-03,  1.99120399e-02,  1.39845387e-02,\n",
       "        -1.58302280e-02, -2.27909168e-02,  2.94673743e-03,\n",
       "        -8.74347939e-03, -2.48133104e-05,  2.98556487e-02,\n",
       "        -7.97150298e-03],\n",
       "       [ 3.12100979e-03, -3.02796596e-02, -1.56252103e-02,\n",
       "         6.47824586e-03,  7.05545348e-02,  3.64659028e-03,\n",
       "         1.10144117e-03,  5.75100517e-03, -5.17934646e-02,\n",
       "         1.61802728e-02],\n",
       "       [-5.51796895e-03,  5.14256687e-03, -4.82788336e-04,\n",
       "         1.79237759e-02, -4.31864485e-02, -1.96515781e-02,\n",
       "         9.46416642e-03, -1.56920577e-03,  2.41635865e-02,\n",
       "        -1.16171836e-03]])"
      ]
     },
     "execution_count": 15,
     "metadata": {},
     "output_type": "execute_result"
    }
   ],
   "source": [
    "a_inv"
   ]
  },
  {
   "cell_type": "code",
   "execution_count": 16,
   "metadata": {},
   "outputs": [
    {
     "data": {
      "text/plain": [
       "array([[-0.00447291, -0.00095446,  0.0089484 ,  0.00447938, -0.00359636,\n",
       "         0.00072199,  0.00396691, -0.01145415,  0.00588158, -0.00260866],\n",
       "       [-0.00783593, -0.00026571,  0.0004922 ,  0.00450548,  0.00254425,\n",
       "        -0.0097444 , -0.00158963,  0.00460866,  0.0033078 ,  0.00703625],\n",
       "       [-0.01160113, -0.00764922, -0.00592041,  0.00081809,  0.01965892,\n",
       "         0.00214419, -0.01787863,  0.01995029,  0.00138735, -0.00303233],\n",
       "       [ 0.00930569,  0.00483851,  0.00317697,  0.00089843, -0.01476893,\n",
       "         0.00339886,  0.00656837, -0.00146564, -0.00815637, -0.00107341],\n",
       "       [ 0.00993179,  0.00699153, -0.015157  ,  0.00165572, -0.01051794,\n",
       "         0.01828866, -0.01649258,  0.00919438, -0.00790089,  0.00353224],\n",
       "       [ 0.00392929, -0.00288489, -0.01738539,  0.00585294,  0.01466852,\n",
       "         0.00856349, -0.01656814,  0.01530406, -0.00174617, -0.00685375],\n",
       "       [-0.00279399, -0.00479355,  0.00583899, -0.00118808,  0.01594523,\n",
       "        -0.00680342,  0.00439689, -0.00442916, -0.00337188,  0.00135658],\n",
       "       [ 0.00784899, -0.00304481,  0.00712694, -0.00507683, -0.01300316,\n",
       "        -0.00127422,  0.02255173, -0.01431985,  0.00120903,  0.00353147],\n",
       "       [ 0.0104072 ,  0.00273301,  0.00725351, -0.00928733, -0.00951022,\n",
       "        -0.00125832,  0.00486684, -0.00724401,  0.00297085, -0.00037763],\n",
       "       [-0.02011102,  0.00843198,  0.01000306, -0.00057969,  0.00188421,\n",
       "        -0.01049694,  0.00831953, -0.00719623,  0.00837037,  0.00180178]])"
      ]
     },
     "execution_count": 16,
     "metadata": {},
     "output_type": "execute_result"
    }
   ],
   "source": [
    "b_inv"
   ]
  },
  {
   "cell_type": "code",
   "execution_count": 17,
   "metadata": {},
   "outputs": [
    {
     "data": {
      "text/plain": [
       "array([[ 0.0283443 , -0.00687736,  0.00671273,  0.01053384, -0.01369639,\n",
       "         0.03602635, -0.03386528, -0.00519058, -0.02237197,  0.00330411],\n",
       "       [ 0.04231502, -0.01534499, -0.01695095,  0.01975467, -0.01870402,\n",
       "         0.05685648, -0.04188124, -0.00754651, -0.02778872,  0.00164937],\n",
       "       [ 0.02944295, -0.00542937, -0.00525842,  0.00262609, -0.02055199,\n",
       "         0.03739563, -0.02385757, -0.00984021, -0.0200052 ,  0.01546528],\n",
       "       [ 0.02320986, -0.00187456, -0.0002216 ,  0.00977176, -0.00725061,\n",
       "         0.01852397, -0.0109768 , -0.01427495, -0.02055105,  0.00546282],\n",
       "       [-0.01787132,  0.0022093 ,  0.00517478, -0.01147   ,  0.01304863,\n",
       "        -0.02672216,  0.03229081,  0.00138296,  0.01275133, -0.00307613],\n",
       "       [-0.06051131,  0.00600193,  0.00723742, -0.00960707,  0.03098647,\n",
       "        -0.07450217,  0.0635402 ,  0.0232082 ,  0.03404741, -0.01508696],\n",
       "       [-0.06384361,  0.02486575,  0.01135513, -0.0163986 ,  0.0265357 ,\n",
       "        -0.07848357,  0.04557069,  0.03118158,  0.04758208, -0.02116479],\n",
       "       [-0.1041832 ,  0.02935845,  0.02890716, -0.02141314,  0.0412208 ,\n",
       "        -0.12206515,  0.08778994,  0.0322691 ,  0.07206104, -0.03056178],\n",
       "       [-0.01395094,  0.00949067,  0.00404315, -0.00609208,  0.00896087,\n",
       "        -0.00513911, -0.00043192,  0.00022982,  0.00924932, -0.00220615],\n",
       "       [ 0.06994899, -0.01946963, -0.02609398,  0.00907701, -0.026658  ,\n",
       "         0.0708156 , -0.05210675, -0.02719244, -0.03632123,  0.0295969 ]])"
      ]
     },
     "execution_count": 17,
     "metadata": {},
     "output_type": "execute_result"
    }
   ],
   "source": [
    "c_inv"
   ]
  },
  {
   "cell_type": "markdown",
   "metadata": {},
   "source": [
    "## Numpy Faster than traditional loops:"
   ]
  },
  {
   "cell_type": "code",
   "execution_count": 19,
   "metadata": {},
   "outputs": [],
   "source": [
    "X= np.array([[np.random.randint(0,100)for j in range(1000)]for i in range(1000)])\n",
    "Y=np.array([[np.random.randint(0,100)for j in range(1000)] for i in range(1000)])"
   ]
  },
  {
   "cell_type": "markdown",
   "metadata": {},
   "source": [
    "## Traditional Looping"
   ]
  },
  {
   "cell_type": "code",
   "execution_count": 20,
   "metadata": {},
   "outputs": [
    {
     "data": {
      "text/plain": [
       "1.0311837196350098"
      ]
     },
     "execution_count": 20,
     "metadata": {},
     "output_type": "execute_result"
    }
   ],
   "source": [
    "start = time.time()\n",
    "result = np.array([[0 for i in range(1000)] for j in range(1000)])\n",
    "for i in range(X.shape[0]):\n",
    "    for j in range(X.shape[1]):\n",
    "        result[i][j] = X[i][j] + Y[i][j]\n",
    "time_elapsed = time.time() - start\n",
    "time_elapsed"
   ]
  },
  {
   "cell_type": "markdown",
   "metadata": {},
   "source": [
    "## Numpy Array"
   ]
  },
  {
   "cell_type": "code",
   "execution_count": 21,
   "metadata": {},
   "outputs": [
    {
     "data": {
      "text/plain": [
       "0.0019757747650146484"
      ]
     },
     "execution_count": 21,
     "metadata": {},
     "output_type": "execute_result"
    }
   ],
   "source": [
    "start_numpy = time.time()\n",
    "result1 = np.add(X,Y)\n",
    "elapsed_time = time.time() - start_numpy\n",
    "elapsed_time"
   ]
  },
  {
   "cell_type": "code",
   "execution_count": null,
   "metadata": {},
   "outputs": [],
   "source": []
  }
 ],
 "metadata": {
  "kernelspec": {
   "display_name": "Python 3",
   "language": "python",
   "name": "python3"
  },
  "language_info": {
   "codemirror_mode": {
    "name": "ipython",
    "version": 3
   },
   "file_extension": ".py",
   "mimetype": "text/x-python",
   "name": "python",
   "nbconvert_exporter": "python",
   "pygments_lexer": "ipython3",
   "version": "3.8.5"
  }
 },
 "nbformat": 4,
 "nbformat_minor": 4
}
