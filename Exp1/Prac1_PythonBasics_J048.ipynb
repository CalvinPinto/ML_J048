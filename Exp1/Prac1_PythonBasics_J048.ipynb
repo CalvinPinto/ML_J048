{
 "cells": [
  {
   "cell_type": "markdown",
   "metadata": {},
   "source": [
    "## Day 0\n",
    "\n",
    "To complete this challenge, you must save a line of input from stdin to a variable, print Hello, World. on a single line, and finally print the value of your variable on a second line.\n"
   ]
  },
  {
   "cell_type": "code",
   "execution_count": 3,
   "metadata": {},
   "outputs": [
    {
     "name": "stdout",
     "output_type": "stream",
     "text": [
      "This is Calvin\n",
      "Hello, World.\n",
      "This is Calvin\n"
     ]
    }
   ],
   "source": [
    "inputString = input()\n",
    "\n",
    "print('Hello, World.')\n",
    "print(inputString)"
   ]
  },
  {
   "cell_type": "markdown",
   "metadata": {},
   "source": [
    "## DAY 1\n",
    "Complete the code in the editor below. The variables , , and  are already declared and initialized for you. You must:\n",
    "\n",
    "Declare  variables: one of type int, one of type double, and one of type String.\n",
    "Read  lines of input from stdin (according to the sequence given in the Input Format section below) and initialize your  variables.\n",
    "Use the  operator to perform the following operations:\n",
    "Print the sum of  plus your int variable on a new line.\n",
    "Print the sum of  plus your double variable to a scale of one decimal place on a new line.\n",
    "Concatenate  with the string you read as input and print the result on a new line."
   ]
  },
  {
   "cell_type": "code",
   "execution_count": 1,
   "metadata": {},
   "outputs": [
    {
     "name": "stdout",
     "output_type": "stream",
     "text": [
      "Enter Integer: 10\n",
      "Enter Double: 5.2\n",
      "Enter String: This is Day 1\n",
      "12\n",
      "9.7\n",
      "Hello WorldThis is Day 1\n"
     ]
    }
   ],
   "source": [
    "l = 2\n",
    "d = 4.5\n",
    "s = 'Hello World'\n",
    "\n",
    "int1 = int(input('Enter Integer: '))\n",
    "double1 = float(input('Enter Double: '))\n",
    "string1 = str(input('Enter String: '))\n",
    "\n",
    "print(l+ int1)\n",
    "print(d+ double1)\n",
    "print(s +string1)"
   ]
  },
  {
   "cell_type": "markdown",
   "metadata": {},
   "source": [
    "## Day 2: Operators\n",
    "Given the meal price (base cost of a meal), tip percent (the percentage of the meal price being added as tip), and tax percent (the\n",
    "percentage of the meal price being added as tax) for a meal, find and print the meal's total cost. Round the result to the nearest integer."
   ]
  },
  {
   "cell_type": "code",
   "execution_count": 4,
   "metadata": {},
   "outputs": [
    {
     "name": "stdout",
     "output_type": "stream",
     "text": [
      "Enter Meal Cost: 100\n",
      "Enter Tip percent: 0.5\n",
      "Enter Tax percent: 0.02\n",
      "101\n"
     ]
    }
   ],
   "source": [
    "meal = float(input(\"Enter Meal Cost: \"))\n",
    "tip = float(input(\"Enter Tip percent: \"))\n",
    "tax = float(input(\"Enter Tax percent: \"))\n",
    "total = round(meal*(100+tip+tax)/100)\n",
    "print(total)\n"
   ]
  },
  {
   "cell_type": "markdown",
   "metadata": {},
   "source": [
    "## Day 3: Intro to Conditional Statements\n",
    "Given an integer, n, perform the following conditional actions:\n",
    "If n is odd, print Weird\n",
    "If n is even and in the inclusive range of 2 to 5, print Not Weird\n",
    "If n is even and in the inclusive range of 6 to 20, print Weird\n",
    "If n is even and greater than 20, print Not Weird\n",
    "Complete the stub code provided in your editor to print whether or not is weird."
   ]
  },
  {
   "cell_type": "code",
   "execution_count": 7,
   "metadata": {},
   "outputs": [
    {
     "name": "stdout",
     "output_type": "stream",
     "text": [
      "enter integer: 22\n",
      "Not Weird\n"
     ]
    }
   ],
   "source": [
    "n = int(input('enter integer: '))\n",
    "if n % 2 == 1 or n in range(6, 21, 2):\n",
    " print('Weird')\n",
    "else:\n",
    " print('Not Weird')"
   ]
  },
  {
   "cell_type": "markdown",
   "metadata": {},
   "source": [
    "## Day 4: Class vs. Instance\n",
    "Write a Person class with an instance variable, age, and a constructor that takes an integer, initialAge, as a parameter. The constructor must\n",
    "assign initialAge to Age after confirming the argument passed as initialAge is not negative; if a negative argument is passed as initialAge, the\n",
    "constructor should set age to 0 and print Age is not valid, setting age to 0.. In addition, you must write the following instance methods:\n",
    "yearPasses() should increase the instance variable by 1.\n",
    "amIOld() should perform the following conditional actions:\n",
    "If , print You are young..\n",
    "If and , print You are a teenager..\n",
    "Otherwise, print You are old..\n",
    "To help you learn by example and complete this challenge, much of the code is provided for you, but you'll be writing everything in the\n",
    "future. The code that creates each instance of your Person class is in the main method. Don't worry if you don't understand it all quite\n",
    "yet!"
   ]
  },
  {
   "cell_type": "code",
   "execution_count": 4,
   "metadata": {},
   "outputs": [
    {
     "name": "stdout",
     "output_type": "stream",
     "text": [
      "Enter Age: 12\n",
      "You are young\n",
      "You are a teenager\n",
      "Enter Age: -2\n",
      "Age is not valid, setting age to 0.\n",
      "You are young\n",
      "You are young\n",
      "Enter Age: 17\n",
      "You are a teenager\n",
      "You are old\n"
     ]
    }
   ],
   "source": [
    "class Person:\n",
    " \n",
    "    def __init__(self, initial_age=0):\n",
    "        if initial_age < 0:\n",
    "            print(\"Age is not valid, setting age to 0.\")\n",
    "            initital_age = 0\n",
    "        self.age = initial_age\n",
    "\n",
    "    def yearPasses(self):\n",
    "        self.age += 1\n",
    "\n",
    "    def amIOld(self):\n",
    "        if self.age < 13:\n",
    "            print(\"You are young\")\n",
    "        elif self.age < 18:\n",
    "            print(\"You are a teenager\")\n",
    "        else:\n",
    "            print(\"You are old\")\n",
    "for t in range(3):\n",
    "    initial_age = int(input('Enter Age: '))\n",
    "    person = Person(initial_age=initial_age)\n",
    "    person.amIOld()\n",
    "    person.yearPasses()\n",
    "    person.amIOld()\n"
   ]
  },
  {
   "cell_type": "markdown",
   "metadata": {},
   "source": [
    "## Day 5:\n",
    "Given an integer, n, print its first 10 multiples."
   ]
  },
  {
   "cell_type": "code",
   "execution_count": 6,
   "metadata": {},
   "outputs": [
    {
     "name": "stdout",
     "output_type": "stream",
     "text": [
      "enter integer: 12\n",
      "12 x 1 = 12\n",
      "12 x 2 = 24\n",
      "12 x 3 = 36\n",
      "12 x 4 = 48\n",
      "12 x 5 = 60\n",
      "12 x 6 = 72\n",
      "12 x 7 = 84\n",
      "12 x 8 = 96\n",
      "12 x 9 = 108\n",
      "12 x 10 = 120\n"
     ]
    }
   ],
   "source": [
    "x = int(input(\"enter integer: \"))\n",
    "for i in range(1,11):\n",
    "    result = x*i\n",
    "    print(\"{} x {} = {}\".format(x,i,result))"
   ]
  },
  {
   "cell_type": "markdown",
   "metadata": {},
   "source": [
    "## Day 6:\n",
    "Given a string, s, of length N that is indexed from 0 to N-1, print its even-indexed and odd-indexed characters as 2 space-separated strings\n",
    "on a single line (see the Sample below for more detail)."
   ]
  },
  {
   "cell_type": "code",
   "execution_count": 9,
   "metadata": {},
   "outputs": [
    {
     "name": "stdout",
     "output_type": "stream",
     "text": [
      "Enter string word: helloworld\n",
      "['h', 'l', 'o', 'o', 'l']    ['e', 'l', 'w', 'r', 'd']\n"
     ]
    }
   ],
   "source": [
    "input_string = input('Enter string word: ')\n",
    "first_half = [input_string[i] for i in range(0,len(input_string),2)]\n",
    "second_half = [input_string[i] for i in range(1,len(input_string),2)]\n",
    "print(first_half,'  ',second_half)"
   ]
  },
  {
   "cell_type": "markdown",
   "metadata": {},
   "source": [
    "## Day 7:\n",
    "Given an array, A, of N integers, print A's elements in reverse order as a single line of space-separated numbers."
   ]
  },
  {
   "cell_type": "code",
   "execution_count": 15,
   "metadata": {},
   "outputs": [
    {
     "name": "stdout",
     "output_type": "stream",
     "text": [
      "10 9 8 7 6 5 4 3 2 1 "
     ]
    }
   ],
   "source": [
    "A = [1,2,3,4,5,6,7,8,9,10]\n",
    "A = A[::-1]\n",
    "for i in range(0,len(A)):\n",
    "    print(A[i],end = ' ')\n",
    "\n",
    "    "
   ]
  },
  {
   "cell_type": "markdown",
   "metadata": {},
   "source": [
    "## Day 8:\n",
    "Given n names and phone numbers, assemble a phone book that maps friends' names to their respective phone numbers. You will then be\n",
    "given an unknown number of names to query your phone book for. For each name queried, print the associated entry from your phone book\n",
    "on a new line in the form name=phoneNumber; if an entry for name is not found, print Not found instead."
   ]
  },
  {
   "cell_type": "code",
   "execution_count": 2,
   "metadata": {},
   "outputs": [
    {
     "name": "stdout",
     "output_type": "stream",
     "text": [
      "Enter length of Phonebook:4\n",
      "Enter name and numberJamie 12345\n",
      "Enter name and numberOliver 98765\n",
      "Enter name and numberRobert 314159\n",
      "Enter name and numberDowney 1433000\n"
     ]
    },
    {
     "data": {
      "text/plain": [
       "{'Jamie': '12345', 'Oliver': '98765', 'Robert': '314159', 'Downey': '1433000'}"
      ]
     },
     "execution_count": 2,
     "metadata": {},
     "output_type": "execute_result"
    }
   ],
   "source": [
    "length = int(input(\"Enter length of Phonebook:\"))\n",
    "phonebook = {}\n",
    "for i in range(length):\n",
    "    data = input('Enter name and number')\n",
    "    data = data.split()\n",
    "    phonebook[data[0]] = data[1]\n",
    "phonebook"
   ]
  },
  {
   "cell_type": "code",
   "execution_count": 3,
   "metadata": {},
   "outputs": [
    {
     "name": "stdout",
     "output_type": "stream",
     "text": [
      "Enter query: Jamie\n",
      "Jamie - 12345\n",
      "Enter query: GordonRamsay\n",
      "Entry Not Found\n",
      "Enter query: Robert\n",
      "Robert - 314159\n",
      "Enter query: quit\n",
      "Entry Not Found\n"
     ]
    }
   ],
   "source": [
    "search = ''\n",
    "while search!='quit':\n",
    "    search = input('Enter query: ')\n",
    "    try:\n",
    "        print(\"{} - {}\".format(search,phonebook[search]))\n",
    "    except:\n",
    "        print('Entry Not Found')\n",
    "        "
   ]
  },
  {
   "cell_type": "code",
   "execution_count": 28,
   "metadata": {},
   "outputs": [
    {
     "data": {
      "text/plain": [
       "{'J': 'a', 'C': 'h', 'R': 'o', 'D': 'o'}"
      ]
     },
     "execution_count": 28,
     "metadata": {},
     "output_type": "execute_result"
    }
   ],
   "source": [
    "phonebook"
   ]
  },
  {
   "cell_type": "code",
   "execution_count": 29,
   "metadata": {},
   "outputs": [
    {
     "data": {
      "text/plain": [
       "['an', 'apple']"
      ]
     },
     "execution_count": 29,
     "metadata": {},
     "output_type": "execute_result"
    }
   ],
   "source": [
    "'an apple'.split()"
   ]
  },
  {
   "cell_type": "markdown",
   "metadata": {},
   "source": [
    "## Day 9:\n",
    "Recursive Method for Calculating Factorial"
   ]
  },
  {
   "cell_type": "code",
   "execution_count": 7,
   "metadata": {},
   "outputs": [
    {
     "name": "stdout",
     "output_type": "stream",
     "text": [
      "Enter number: 6\n",
      "720\n"
     ]
    }
   ],
   "source": [
    "def factorial(n):\n",
    "    if n ==0:\n",
    "        return 1\n",
    "    else:\n",
    "        return n*factorial(n-1)\n",
    "x = int(input('Enter number: '))\n",
    "print(factorial(x))"
   ]
  },
  {
   "cell_type": "markdown",
   "metadata": {},
   "source": [
    "## Day 10:\n",
    "Given a base-10 integer, n, convert it to binary (base-2). Then find and print the base-10 integer denoting the maximum number of\n",
    "consecutive 1's in n's binary representation. When working with different bases, it is common to show the base as a subscript."
   ]
  },
  {
   "cell_type": "code",
   "execution_count": 9,
   "metadata": {},
   "outputs": [
    {
     "name": "stdout",
     "output_type": "stream",
     "text": [
      "7\n",
      "3\n"
     ]
    }
   ],
   "source": [
    "def max(a,b):\n",
    "    return a if a>b else b\n",
    "n = int(input())\n",
    "\n",
    "max_num = 0\n",
    "i = 0\n",
    "\n",
    "while n:\n",
    "    while n&1:\n",
    "        i+=1\n",
    "        n>>=1\n",
    "    max_num = max(i, max_num)\n",
    "    if not n&1:\n",
    "        count = 0\n",
    "        n>>=1\n",
    "\n",
    "print(max_num)"
   ]
  },
  {
   "cell_type": "markdown",
   "metadata": {},
   "source": [
    "## Day 11:\n",
    "Calculate the hourglass sum for every hourglass in A, then print the maximum hourglass sum."
   ]
  },
  {
   "cell_type": "code",
   "execution_count": 12,
   "metadata": {},
   "outputs": [
    {
     "name": "stdout",
     "output_type": "stream",
     "text": [
      "1 1 1 0 0 0 \n",
      "0 1 0 0 0 0 \n",
      "1 1 1 0 0 0 \n",
      "0 0 2 4 4 0 \n",
      "0 0 0 2 0 0 \n",
      "0 0 1 2 4 0 \n",
      "19\n"
     ]
    }
   ],
   "source": [
    "array= []\n",
    "for array_i in range(6):\n",
    "    array_temp = list(map(int,input().strip().split(' ')))\n",
    "    array.append(array_temp)\n",
    "max = 0\n",
    "\n",
    "for i in range(0,4):\n",
    "    for j in range(0,4):\n",
    "        sum = 0\n",
    "        sum= array[i][j]+array[i][j+1]+array[i][j+2]+array[i+1][j+1]+array[i+2][j]+array[i+2][j+1]+array[i+2][j+2]\n",
    "        if i==0 and j==0:\n",
    "            max = sum\n",
    "        if sum > max:\n",
    "            max =sum\n",
    "\n",
    "print(max)"
   ]
  },
  {
   "cell_type": "markdown",
   "metadata": {},
   "source": [
    "## Day 12: Inheritence\n",
    "\n",
    "You are given two classes, Person and Student, where Person is the base class and Student is the derived class. Completed code for\n",
    "Person and a declaration for Student are provided for you in the editor. Observe that Student inherits all the properties of Person.\n"
   ]
  },
  {
   "cell_type": "code",
   "execution_count": 22,
   "metadata": {
    "scrolled": true
   },
   "outputs": [
    {
     "name": "stdout",
     "output_type": "stream",
     "text": [
      "Enter your first name: Calvin\n",
      "Enter your last name: Pinto\n",
      "Enter your student ID: 70091019052\n",
      "Enter number of scores to enter: 4\n",
      "Enter the score: 82\n",
      "Name: Calvin\n",
      "ID: 70091019052\n",
      "Grade: E\n",
      "Enter the score: 79\n",
      "Name: Calvin\n",
      "ID: 70091019052\n",
      "Grade: D\n",
      "Enter the score: 99\n",
      "Name: Calvin\n",
      "ID: 70091019052\n",
      "Grade: T\n",
      "Enter the score: 60\n",
      "Name: Calvin\n",
      "ID: 70091019052\n",
      "Grade: T\n"
     ]
    }
   ],
   "source": [
    "class Student():\n",
    "    def __init__(self,f_name,l_name,st_id,scores,n):\n",
    "        self.scores=scores\n",
    "        self.n = n\n",
    "    def avg_scores(self):\n",
    "        avg = 0.0\n",
    "        for score in self.scores:\n",
    "            avg += score\n",
    "            avg= avg/len(self.scores)\n",
    "            if avg<40:\n",
    "                return \"T\"\n",
    "            elif avg< 55:\n",
    "                return 'D'\n",
    "            elif avg<70:\n",
    "                return'P'\n",
    "            elif avg<80:\n",
    "                return'A'\n",
    "            elif avg<90:\n",
    "                return'E'\n",
    "            else:\n",
    "                return 'O'\n",
    "    def print_st(self):\n",
    "        print(f\"Name: {f_name}\")\n",
    "        print(f\"ID: {st_id}\")\n",
    "        print(\"Grade:\",end=\" \")\n",
    "        print(self.avg_scores())\n",
    "\n",
    "f_name=input(\"Enter your first name: \")\n",
    "l_name=input(\"Enter your last name: \")\n",
    "st_id=int(input(\"Enter your student ID: \"))\n",
    "n=int(input(\"Enter number of scores to enter: \"))\n",
    "scores=[]\n",
    "\n",
    "for i in range(n):\n",
    "    scores_inp=int(input(\"Enter the score: \"))\n",
    "    scores.append(scores_inp)\n",
    "    st=Student(f_name,l_name,st_id,scores,n)\n",
    "    st.print_st()"
   ]
  },
  {
   "cell_type": "code",
   "execution_count": 26,
   "metadata": {},
   "outputs": [
    {
     "name": "stdout",
     "output_type": "stream",
     "text": [
      "Name: Calvin Pinto\n",
      "ID: 7009101\n"
     ]
    },
    {
     "ename": "TypeError",
     "evalue": "'int' object is not callable",
     "output_type": "error",
     "traceback": [
      "\u001b[1;31m---------------------------------------------------------------------------\u001b[0m",
      "\u001b[1;31mTypeError\u001b[0m                                 Traceback (most recent call last)",
      "\u001b[1;32m<ipython-input-26-e874efefe390>\u001b[0m in \u001b[0;36m<module>\u001b[1;34m\u001b[0m\n\u001b[0;32m     17\u001b[0m \u001b[0mprint\u001b[0m\u001b[1;33m(\u001b[0m\u001b[1;34mf'Name: {s1.first_name} {s1.last_name}'\u001b[0m\u001b[1;33m)\u001b[0m\u001b[1;33m\u001b[0m\u001b[1;33m\u001b[0m\u001b[0m\n\u001b[0;32m     18\u001b[0m \u001b[0mprint\u001b[0m\u001b[1;33m(\u001b[0m\u001b[1;34mf'ID: {s1.id_number}'\u001b[0m\u001b[1;33m)\u001b[0m\u001b[1;33m\u001b[0m\u001b[1;33m\u001b[0m\u001b[0m\n\u001b[1;32m---> 19\u001b[1;33m \u001b[0mprint\u001b[0m\u001b[1;33m(\u001b[0m\u001b[1;34mf'Grade: {s1.calculate()}'\u001b[0m\u001b[1;33m)\u001b[0m\u001b[1;33m\u001b[0m\u001b[1;33m\u001b[0m\u001b[0m\n\u001b[0m",
      "\u001b[1;32m<ipython-input-26-e874efefe390>\u001b[0m in \u001b[0;36mcalculate\u001b[1;34m(self)\u001b[0m\n\u001b[0;32m      9\u001b[0m         \u001b[0md\u001b[0m \u001b[1;33m=\u001b[0m \u001b[1;33m{\u001b[0m\u001b[1;34m'T'\u001b[0m\u001b[1;33m:\u001b[0m \u001b[1;36m40\u001b[0m\u001b[1;33m,\u001b[0m\u001b[1;34m'D'\u001b[0m\u001b[1;33m:\u001b[0m \u001b[1;36m55\u001b[0m\u001b[1;33m,\u001b[0m\u001b[1;34m'P'\u001b[0m\u001b[1;33m:\u001b[0m \u001b[1;36m70\u001b[0m\u001b[1;33m,\u001b[0m\u001b[1;34m'A'\u001b[0m\u001b[1;33m:\u001b[0m \u001b[1;36m80\u001b[0m\u001b[1;33m,\u001b[0m\u001b[1;34m'E'\u001b[0m\u001b[1;33m:\u001b[0m \u001b[1;36m90\u001b[0m\u001b[1;33m,\u001b[0m\u001b[1;34m'O'\u001b[0m\u001b[1;33m:\u001b[0m \u001b[1;36m100\u001b[0m\u001b[1;33m,\u001b[0m\u001b[1;33m}\u001b[0m\u001b[1;33m\u001b[0m\u001b[1;33m\u001b[0m\u001b[0m\n\u001b[0;32m     10\u001b[0m \u001b[1;33m\u001b[0m\u001b[0m\n\u001b[1;32m---> 11\u001b[1;33m         \u001b[0mavg\u001b[0m \u001b[1;33m=\u001b[0m \u001b[0msum\u001b[0m\u001b[1;33m(\u001b[0m\u001b[0mself\u001b[0m\u001b[1;33m.\u001b[0m\u001b[0mscores\u001b[0m\u001b[1;33m)\u001b[0m \u001b[1;33m/\u001b[0m \u001b[0mlen\u001b[0m\u001b[1;33m(\u001b[0m\u001b[0mself\u001b[0m\u001b[1;33m.\u001b[0m\u001b[0mscores\u001b[0m\u001b[1;33m)\u001b[0m\u001b[1;33m\u001b[0m\u001b[1;33m\u001b[0m\u001b[0m\n\u001b[0m\u001b[0;32m     12\u001b[0m \u001b[1;33m\u001b[0m\u001b[0m\n\u001b[0;32m     13\u001b[0m         \u001b[1;32mfor\u001b[0m \u001b[0mgrade\u001b[0m\u001b[1;33m,\u001b[0m \u001b[0mscore_threshold\u001b[0m \u001b[1;32min\u001b[0m \u001b[0md\u001b[0m\u001b[1;33m.\u001b[0m\u001b[0mitems\u001b[0m\u001b[1;33m(\u001b[0m\u001b[1;33m)\u001b[0m\u001b[1;33m:\u001b[0m\u001b[1;33m\u001b[0m\u001b[1;33m\u001b[0m\u001b[0m\n",
      "\u001b[1;31mTypeError\u001b[0m: 'int' object is not callable"
     ]
    }
   ],
   "source": [
    "\n"
   ]
  },
  {
   "cell_type": "markdown",
   "metadata": {},
   "source": [
    "## Day 13"
   ]
  },
  {
   "cell_type": "code",
   "execution_count": 30,
   "metadata": {},
   "outputs": [
    {
     "name": "stdout",
     "output_type": "stream",
     "text": [
      "Title: Harry Porter\n",
      "Author: Master Jones\n",
      "Price: 500\n"
     ]
    }
   ],
   "source": [
    "class my_library():\n",
    "    def __init__(self,title,author,price):\n",
    "        self.title=title\n",
    "        self.author=author\n",
    "        self.price=price\n",
    "    def print_library(self):\n",
    "        print(f\"Title: {self.title}\")\n",
    "        print(f\"Author: {self.author}\")\n",
    "        print(f\"Price: {self.price}\")\n",
    "lib = my_library('Harry Porter','Master Jones',500)\n",
    "lib.print_library()"
   ]
  },
  {
   "cell_type": "markdown",
   "metadata": {},
   "source": [
    "## Day 14"
   ]
  },
  {
   "cell_type": "code",
   "execution_count": 32,
   "metadata": {},
   "outputs": [
    {
     "name": "stdout",
     "output_type": "stream",
     "text": [
      "Enter numbers: 1 3 4 6 8 11\n",
      "10\n"
     ]
    }
   ],
   "source": [
    "import numpy as np \n",
    "class Difference:\n",
    "    def __init__(self, a): \n",
    "        self.elements=a \n",
    "        self.max_diff = 0\n",
    "    def calc_diff(self):\n",
    "        self.max_diff = np.max(a) - np.min(a) \n",
    "        return self.max_diff\n",
    "a = [int(e) for e in input(\"Enter numbers: \").split(' ')] \n",
    "diff = Difference(a)\n",
    "print(diff.calc_diff())\n"
   ]
  },
  {
   "cell_type": "markdown",
   "metadata": {},
   "source": [
    "## Day 15"
   ]
  },
  {
   "cell_type": "code",
   "execution_count": 39,
   "metadata": {},
   "outputs": [
    {
     "name": "stdout",
     "output_type": "stream",
     "text": [
      "4\n",
      "4\n",
      "3\n",
      "2\n",
      "1\n",
      "4312\n"
     ]
    }
   ],
   "source": [
    "class Node():\n",
    "    def __init__ (self, data): \n",
    "        self.data = data \n",
    "        self.next = None\n",
    "class Solution():\n",
    "    def display(self, head): \n",
    "        n = head\n",
    "        while n:\n",
    "            print(n.data, end=\"\") \n",
    "            n = n.next\n",
    "    def insert(self,head,data): \n",
    "        if head is None:\n",
    "            head = Node(data) \n",
    "        elif head.next is None:\n",
    "            head.next = Node(data) \n",
    "        else:\n",
    "            self.insert(head.next, data) \n",
    "            return head\n",
    "mylist= Solution() \n",
    "T=int(input()) \n",
    "head=None\n",
    "for i in range(T): \n",
    "    data=int(input()) \n",
    "    head=mylist.insert(head,data)\n",
    "mylist.display(head)"
   ]
  },
  {
   "cell_type": "markdown",
   "metadata": {},
   "source": [
    "## Day 16"
   ]
  },
  {
   "cell_type": "code",
   "execution_count": 40,
   "metadata": {},
   "outputs": [
    {
     "name": "stdout",
     "output_type": "stream",
     "text": [
      "Enter a string: hello\n",
      "Bad String\n"
     ]
    }
   ],
   "source": [
    "n = input(\"Enter a string: \") \n",
    "try:\n",
    "    if type(int(n)):\n",
    "        print(int(n))\n",
    "except:\n",
    "    print(\"Bad String\")\n"
   ]
  },
  {
   "cell_type": "markdown",
   "metadata": {},
   "source": [
    "## Day 17"
   ]
  },
  {
   "cell_type": "code",
   "execution_count": 42,
   "metadata": {},
   "outputs": [
    {
     "name": "stdout",
     "output_type": "stream",
     "text": [
      "Enter base number: 4\n",
      "Enter power: 2\n",
      "16\n"
     ]
    }
   ],
   "source": [
    "n = int(input(\"Enter base number: \")) \n",
    "p = int(input(\"Enter power: \"))\n",
    "if n<0 or p<0:\n",
    "    raise Exception(\"n and p should be non negative\") \n",
    "else:\n",
    "    print(pow(n,p))\n"
   ]
  },
  {
   "cell_type": "markdown",
   "metadata": {},
   "source": [
    "## Day 18"
   ]
  },
  {
   "cell_type": "code",
   "execution_count": 47,
   "metadata": {},
   "outputs": [
    {
     "name": "stdout",
     "output_type": "stream",
     "text": [
      "Enter a stringmadam\n",
      "The word, madam, is a palindrome.\n"
     ]
    }
   ],
   "source": [
    "import sys\n",
    "from collections import deque\n",
    "\n",
    "class Solution:\n",
    "    def __init__(self): \n",
    "        self.stack = deque() \n",
    "        self.queue = deque()\n",
    "\n",
    "    def pushCharacter(self,char): \n",
    "        self.stack.append(char)\n",
    "\n",
    "    def popCharacter(self): \n",
    "        return self.stack.pop()\n",
    "\n",
    "    def enqueueCharacter(self,char): \n",
    "        self.queue.append(char)\n",
    "\n",
    "    def dequeueCharacter(self): \n",
    "        return self.queue.popleft();\n",
    "\n",
    "s=input(\"Enter a string\") \n",
    "obj=Solution()\n",
    "\n",
    "l=len(s)\n",
    "for i in range(l): \n",
    "    obj.pushCharacter(s[i]) \n",
    "    obj.enqueueCharacter(s[i])\n",
    "\n",
    "isPalindrome=True\n",
    "for i in range(l // 2):\n",
    "    if obj.popCharacter()!=obj.dequeueCharacter(): \n",
    "        isPalindrome=False\n",
    "        break\n",
    "\n",
    "if isPalindrome:\n",
    "    print(\"The word, \"+s+\", is a palindrome.\") \n",
    "else:\n",
    "    print(\"The word, \"+s+\", is not a palindrome.\")\n"
   ]
  },
  {
   "cell_type": "markdown",
   "metadata": {},
   "source": [
    "## Day 19"
   ]
  },
  {
   "cell_type": "code",
   "execution_count": 51,
   "metadata": {},
   "outputs": [
    {
     "name": "stdout",
     "output_type": "stream",
     "text": [
      "12\n",
      "I implemented: AdvancedArithmetic\n",
      "28\n"
     ]
    }
   ],
   "source": [
    "class AdvancedArithmetic(object): \n",
    "    def divisorSum(n):\n",
    "        raise NotImplementedError\n",
    "\n",
    "class Calculator(AdvancedArithmetic): \n",
    "    def divisorSum(self, n):\n",
    "        s = 0\n",
    "        for i in range(1,n+1): \n",
    "            if n%i == 0:\n",
    "                s=s+i\n",
    "        return s \n",
    "n = int(input())\n",
    "my_calculator = Calculator()\n",
    "s = my_calculator.divisorSum(n)\n",
    "print(\"I implemented: \" + type(my_calculator).__bases__[0].__name__ ) \n",
    "print(s)\n"
   ]
  },
  {
   "cell_type": "markdown",
   "metadata": {},
   "source": [
    "## Day 20"
   ]
  },
  {
   "cell_type": "code",
   "execution_count": 65,
   "metadata": {},
   "outputs": [
    {
     "name": "stdout",
     "output_type": "stream",
     "text": [
      "3\n",
      "3 2 1\n",
      "Array is sorted in 3 swaps\n",
      "First Element: 1\n",
      "Last element: 3\n"
     ]
    }
   ],
   "source": [
    "import math\n",
    "import os \n",
    "import random \n",
    "import re \n",
    "import sys\n",
    "\n",
    "n = int(input().strip())\n",
    "a = list(map(int, input().strip().split(' ')))\n",
    "numberOfSwaps = 0\n",
    "for i in range(n):\n",
    "    for j in range(0, n-1):\n",
    "        if (a[j] > a[j + 1]):\n",
    "            temp=a[j]\n",
    "            a[j] = a[j+1]\n",
    "            a[j+1] = temp\n",
    "            numberOfSwaps += 1\n",
    "    if (numberOfSwaps == 0):\n",
    "        break\n",
    "print( \"Array is sorted in \" + str(numberOfSwaps) + \" swaps.\" )\n",
    "print( \"First Element: \" + str(a[0]) )\n",
    "print( \"Last Element: \" +  str(a[n-1]) )\n"
   ]
  },
  {
   "cell_type": "markdown",
   "metadata": {},
   "source": [
    "## Day 21\n",
    "Unable to do in Python"
   ]
  },
  {
   "cell_type": "markdown",
   "metadata": {},
   "source": [
    "## Day 22"
   ]
  },
  {
   "cell_type": "code",
   "execution_count": 72,
   "metadata": {},
   "outputs": [
    {
     "name": "stdout",
     "output_type": "stream",
     "text": [
      "3\n",
      "2\n",
      "1\n",
      "4\n"
     ]
    },
    {
     "ename": "TypeError",
     "evalue": "'int' object is not callable",
     "output_type": "error",
     "traceback": [
      "\u001b[1;31m---------------------------------------------------------------------------\u001b[0m",
      "\u001b[1;31mTypeError\u001b[0m                                 Traceback (most recent call last)",
      "\u001b[1;32m<ipython-input-72-724943b167c0>\u001b[0m in \u001b[0;36m<module>\u001b[1;34m\u001b[0m\n\u001b[0;32m     30\u001b[0m     \u001b[0mdata\u001b[0m\u001b[1;33m=\u001b[0m\u001b[0mint\u001b[0m\u001b[1;33m(\u001b[0m\u001b[0minput\u001b[0m\u001b[1;33m(\u001b[0m\u001b[1;33m)\u001b[0m\u001b[1;33m)\u001b[0m\u001b[1;33m\u001b[0m\u001b[1;33m\u001b[0m\u001b[0m\n\u001b[0;32m     31\u001b[0m     \u001b[0mroot\u001b[0m\u001b[1;33m=\u001b[0m\u001b[0mmyTree\u001b[0m\u001b[1;33m.\u001b[0m\u001b[0minsert\u001b[0m\u001b[1;33m(\u001b[0m\u001b[0mroot\u001b[0m\u001b[1;33m,\u001b[0m\u001b[0mdata\u001b[0m\u001b[1;33m)\u001b[0m\u001b[1;33m\u001b[0m\u001b[1;33m\u001b[0m\u001b[0m\n\u001b[1;32m---> 32\u001b[1;33m \u001b[0mheight\u001b[0m\u001b[1;33m=\u001b[0m\u001b[0mmyTree\u001b[0m\u001b[1;33m.\u001b[0m\u001b[0mgetHeight\u001b[0m\u001b[1;33m(\u001b[0m\u001b[0mroot\u001b[0m\u001b[1;33m)\u001b[0m\u001b[1;33m\u001b[0m\u001b[1;33m\u001b[0m\u001b[0m\n\u001b[0m\u001b[0;32m     33\u001b[0m \u001b[0mprint\u001b[0m\u001b[1;33m(\u001b[0m\u001b[0mheight\u001b[0m\u001b[1;33m)\u001b[0m\u001b[1;33m\u001b[0m\u001b[1;33m\u001b[0m\u001b[0m\n",
      "\u001b[1;32m<ipython-input-72-724943b167c0>\u001b[0m in \u001b[0;36mgetHeight\u001b[1;34m(self, root)\u001b[0m\n\u001b[0;32m     20\u001b[0m             \u001b[1;32mreturn\u001b[0m \u001b[1;36m0\u001b[0m\u001b[1;33m\u001b[0m\u001b[1;33m\u001b[0m\u001b[0m\n\u001b[0;32m     21\u001b[0m         \u001b[1;32melse\u001b[0m\u001b[1;33m:\u001b[0m\u001b[1;33m\u001b[0m\u001b[1;33m\u001b[0m\u001b[0m\n\u001b[1;32m---> 22\u001b[1;33m             \u001b[1;32mreturn\u001b[0m \u001b[0mmax\u001b[0m\u001b[1;33m(\u001b[0m\u001b[0mself\u001b[0m\u001b[1;33m.\u001b[0m\u001b[0mgetHeight\u001b[0m\u001b[1;33m(\u001b[0m\u001b[0mroot\u001b[0m\u001b[1;33m.\u001b[0m\u001b[0mleft\u001b[0m\u001b[1;33m)\u001b[0m\u001b[1;33m,\u001b[0m\u001b[0mself\u001b[0m\u001b[1;33m.\u001b[0m\u001b[0mgetHeight\u001b[0m\u001b[1;33m(\u001b[0m\u001b[0mroot\u001b[0m\u001b[1;33m.\u001b[0m\u001b[0mright\u001b[0m\u001b[1;33m)\u001b[0m\u001b[1;33m)\u001b[0m\u001b[1;33m+\u001b[0m\u001b[1;36m1\u001b[0m\u001b[1;33m\u001b[0m\u001b[1;33m\u001b[0m\u001b[0m\n\u001b[0m\u001b[0;32m     23\u001b[0m \u001b[1;33m\u001b[0m\u001b[0m\n\u001b[0;32m     24\u001b[0m \u001b[1;33m\u001b[0m\u001b[0m\n",
      "\u001b[1;31mTypeError\u001b[0m: 'int' object is not callable"
     ]
    }
   ],
   "source": [
    "class Node:\n",
    "    def __init__(self,data): \n",
    "        self.right=self.left=None \n",
    "        self.data = data\n",
    "class Solution:\n",
    "    def insert(self,root,data): \n",
    "        if root==None:\n",
    "            return Node(data) \n",
    "        else:\n",
    "            if data<=root.data: \n",
    "                cur=self.insert(root.left,data) \n",
    "                root.left=cur\n",
    "            else:\n",
    "                cur=self.insert(root.right,data) \n",
    "                root.right=cur\n",
    "        return root\n",
    "\n",
    "    def getHeight(self,root):\n",
    "        if root is None or (root.left is None and root.right is None): \n",
    "            return 0\n",
    "        else:\n",
    "            return max(self.getHeight(root.left),self.getHeight(root.right))+1\n",
    "\n",
    "\n",
    "\n",
    "T=int(input()) \n",
    "myTree=Solution() \n",
    "root=None\n",
    "for i in range(T): \n",
    "    data=int(input()) \n",
    "    root=myTree.insert(root,data)\n",
    "height=myTree.getHeight(root) \n",
    "print(height)\n"
   ]
  },
  {
   "cell_type": "markdown",
   "metadata": {},
   "source": [
    "###  Day 23"
   ]
  },
  {
   "cell_type": "code",
   "execution_count": 75,
   "metadata": {},
   "outputs": [
    {
     "name": "stdout",
     "output_type": "stream",
     "text": [
      "6\n",
      "3\n",
      "5\n",
      "4\n",
      "7\n",
      "2\n",
      "1\n",
      "3 2 5 1 4 7\n"
     ]
    }
   ],
   "source": [
    "import sys\n",
    "\n",
    "class Node:\n",
    "    def __init__(self,data): \n",
    "        self.right=self.left=None \n",
    "        self.data = data\n",
    "        \n",
    "class Solution:\n",
    "    def insert(self,root,data): \n",
    "        if root==None:\n",
    "            return Node(data) \n",
    "        else:\n",
    "            if data<=root.data: \n",
    "                cur=self.insert(root.left,data) \n",
    "                root.left=cur\n",
    "            else:\n",
    "                cur=self.insert(root.right,data) \n",
    "                root.right=cur\n",
    "        return root\n",
    "\n",
    "    def levelOrder(self,root): \n",
    "        output = \"\"\n",
    "        queue = [root] \n",
    "        while queue:\n",
    "            current = queue.pop(0)\n",
    "            output += str(current.data) + \" \" \n",
    "            if current.left:\n",
    "                queue.append(current.left) \n",
    "                if current.right:\n",
    "                    queue.append(current.right) \n",
    "                    print(output[:-1])\n",
    "\n",
    "T=int(input()) \n",
    "myTree=Solution() \n",
    "root=None\n",
    "for i in range(T): \n",
    "    data=int(input()) \n",
    "    root=myTree.insert(root,data)\n",
    "myTree.levelOrder(root)\n"
   ]
  },
  {
   "cell_type": "markdown",
   "metadata": {},
   "source": [
    "## Day 24"
   ]
  },
  {
   "cell_type": "code",
   "execution_count": 83,
   "metadata": {},
   "outputs": [
    {
     "name": "stdout",
     "output_type": "stream",
     "text": [
      "5\n",
      "1\n",
      "2\n",
      "2\n",
      "3\n",
      "4\n",
      "1 2 3 4\n"
     ]
    }
   ],
   "source": [
    "\n",
    "class Node:\n",
    "    def __init__(self,data): \n",
    "        self.data = data \n",
    "        self.next = None\n",
    "class Solution:\n",
    "    def insert(self,head,data):\n",
    "        p = Node(data) \n",
    "        if head==None: \n",
    "            head=p\n",
    "        elif head.next==None: \n",
    "            head.next=p\n",
    "        else:\n",
    "            start=head \n",
    "            while(start.next!=None):\n",
    "                start=start.next \n",
    "                start.next=p\n",
    "        return  head \n",
    "    def display(self,head):\n",
    "        current = head \n",
    "        while current:\n",
    "            print(current.data,end=' ') \n",
    "            current = current.next\n",
    "    def removeDuplicates(self,head): \n",
    "        current = head\n",
    "        while (current.next):\n",
    "            if (current.data == current.next.data): \n",
    "                current.next = current.next.next\n",
    "            else:\n",
    "                current = current.next \n",
    "        return head\n",
    "\n",
    "mylist= Solution() \n",
    "T=int(input()) \n",
    "head=None\n",
    "for i in range(T): \n",
    "    data=int(input()) \n",
    "    head=mylist.insert(head,data)\n",
    "head=mylist.removeDuplicates(head) \n",
    "mylist.display(head);\n"
   ]
  },
  {
   "cell_type": "markdown",
   "metadata": {},
   "source": [
    "## Day 25"
   ]
  },
  {
   "cell_type": "code",
   "execution_count": 86,
   "metadata": {},
   "outputs": [
    {
     "name": "stdout",
     "output_type": "stream",
     "text": [
      "Enter number of values: 2\n",
      "Enter the values: 7\n",
      "Prime\n",
      "Enter the values: 4\n",
      "Not prime\n"
     ]
    }
   ],
   "source": [
    "import math\n",
    "\n",
    "def check_prime(num): \n",
    "    if num==1:\n",
    "        return \"Not prime\"\n",
    "    for x in range(2, int(math.sqrt(num))+1): \n",
    "        if num % x ==0:\n",
    "            return \"Not prime\" \n",
    "    return \"Prime\"\n",
    "t = int(input(\"Enter number of values: \")) \n",
    "for i in range(t):\n",
    "    number = int(input(\"Enter the values: \")) \n",
    "    print(check_prime(number))\n"
   ]
  },
  {
   "cell_type": "markdown",
   "metadata": {},
   "source": [
    "## Day 26"
   ]
  },
  {
   "cell_type": "code",
   "execution_count": 90,
   "metadata": {},
   "outputs": [
    {
     "name": "stdout",
     "output_type": "stream",
     "text": [
      "9 6 2015\n",
      "6 6 2015\n",
      "45\n"
     ]
    }
   ],
   "source": [
    "d1, m1, y1 = input().split(' ') \n",
    "d1 = int(d1)\n",
    "m1 = int(m1) \n",
    "y1 = int(y1)\n",
    "d2, m2, y2 = input().split(' ') \n",
    "d2 = int(d2)\n",
    "m2 = int(m2) \n",
    "y2 = int(y2) \n",
    "fine = 0 \n",
    "if(y2==y1):\n",
    "    if(m2 < m1):\n",
    "        fine = (m1 - m2) * 500 \n",
    "    elif((m2 == m1) and (d2 < d1)):\n",
    "        fine = (d1 - d2) * 15 \n",
    "elif(y2 < y1):\n",
    "    fine = 10000 \n",
    "print(fine)\n"
   ]
  },
  {
   "cell_type": "markdown",
   "metadata": {},
   "source": [
    "## Day 27"
   ]
  },
  {
   "cell_type": "code",
   "execution_count": 93,
   "metadata": {},
   "outputs": [
    {
     "name": "stdout",
     "output_type": "stream",
     "text": [
      "OK\n"
     ]
    }
   ],
   "source": [
    "def minimum_index(seq):\n",
    "    if len(seq) == 0:\n",
    "        raise ValueError(\"Cannot get the minimum value index from an empty sequence\")\n",
    "    min_idx = 0\n",
    "    for i in range(1, len(seq)):\n",
    "        if seq[i] < seq[min_idx]:\n",
    "            min_idx = i\n",
    "    return min_idx\n",
    "print('OK')\n",
    "class TestDataEmptyArray(object):\n",
    "    \n",
    "    @staticmethod\n",
    "    def get_array():\n",
    "        return []\n",
    "\n",
    "class TestDataUniqueValues(object):\n",
    "\n",
    "    @staticmethod\n",
    "    def get_array():\n",
    "        return [7, 4, 3, 8, 14]\n",
    "\n",
    "    @staticmethod\n",
    "    def get_expected_result():\n",
    "        return 2\n",
    "\n",
    "class TestDataExactlyTwoDifferentMinimums(object):\n",
    "\n",
    "    @staticmethod\n",
    "    def get_array():\n",
    "        return [7, 4, 3, 8, 3, 14]\n",
    "\n",
    "    @staticmethod\n",
    "    def get_expected_result():\n",
    "        return 2"
   ]
  },
  {
   "cell_type": "markdown",
   "metadata": {},
   "source": [
    "## Day 28"
   ]
  },
  {
   "cell_type": "code",
   "execution_count": 97,
   "metadata": {},
   "outputs": [
    {
     "name": "stdout",
     "output_type": "stream",
     "text": [
      "3\n",
      "calvin calvin16@gmail.com\n",
      "nmims college@nmims.com\n",
      "raj rajrao@gmail.com\n",
      "calvin\n",
      "raj\n"
     ]
    }
   ],
   "source": [
    "import sys \n",
    "import re\n",
    "N = int(input().strip()) \n",
    "names = []\n",
    "for a0 in range(N):\n",
    "    firstName,emailID = input().strip().split(' ') \n",
    "    firstName,emailID = [str(firstName),str(emailID)] \n",
    "    match = re.search(r'[\\w\\.-]+@gmail.com', emailID)\n",
    "\n",
    "    if match:\n",
    "        names.append(firstName) \n",
    "names.sort()\n",
    "for name in names: \n",
    "    print( name )\n"
   ]
  },
  {
   "cell_type": "markdown",
   "metadata": {},
   "source": [
    "## Day 29"
   ]
  },
  {
   "cell_type": "code",
   "execution_count": 99,
   "metadata": {},
   "outputs": [
    {
     "name": "stdout",
     "output_type": "stream",
     "text": [
      "3\n",
      "5 2\n",
      "1\n",
      "8 5\n",
      "4\n",
      "2 7\n",
      "5\n"
     ]
    }
   ],
   "source": [
    "import sys\n",
    "\n",
    "t = int(input().strip()) \n",
    "for a0 in range(t):\n",
    "    n, k = input().strip().split(' ')\n",
    "    n, k = [int(n), int(k)]\n",
    "    print(k-1 if ((k-1) | k) <= n else k-2)\n"
   ]
  }
 ],
 "metadata": {
  "kernelspec": {
   "display_name": "Python 3",
   "language": "python",
   "name": "python3"
  },
  "language_info": {
   "codemirror_mode": {
    "name": "ipython",
    "version": 3
   },
   "file_extension": ".py",
   "mimetype": "text/x-python",
   "name": "python",
   "nbconvert_exporter": "python",
   "pygments_lexer": "ipython3",
   "version": "3.8.5"
  }
 },
 "nbformat": 4,
 "nbformat_minor": 4
}
